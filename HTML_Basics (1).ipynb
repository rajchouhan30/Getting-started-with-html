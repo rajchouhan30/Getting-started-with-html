{
  "nbformat": 4,
  "nbformat_minor": 0,
  "metadata": {
    "colab": {
      "provenance": []
    },
    "kernelspec": {
      "name": "python3",
      "display_name": "Python 3"
    },
    "language_info": {
      "name": "python"
    }
  },
  "cells": [
    {
      "cell_type": "markdown",
      "source": [
        "# **Getting Started With HTML**"
      ],
      "metadata": {
        "id": "HLZrQMxs__32"
      }
    },
    {
      "cell_type": "markdown",
      "source": [
        "1.Write a simple program in HTML  that displays the heading \"HTML defines the content and structure of your website” on the web browser?"
      ],
      "metadata": {
        "id": "6PJ3AeCwASSE"
      }
    },
    {
      "cell_type": "code",
      "source": [
        "'''\n",
        "<!DOCTYPE html>\n",
        "<html>\n",
        "<head>\n",
        "\n",
        "</head>\n",
        "<body>\n",
        "    <h1>HTML defines the content and structure of\n",
        "        your website</h1>\n",
        "</body>\n",
        "</html>\n",
        "'''"
      ],
      "metadata": {
        "id": "Wc6-J-k7CBUU"
      },
      "execution_count": null,
      "outputs": []
    },
    {
      "cell_type": "markdown",
      "source": [
        "# New section"
      ],
      "metadata": {
        "id": "ts1i6HIxThbF"
      }
    },
    {
      "cell_type": "markdown",
      "source": [
        "2. Explain the purpose of comments in HTML and provide an example of how to use comments in an HTML document?"
      ],
      "metadata": {
        "id": "jwYaxtIXA5qU"
      }
    },
    {
      "cell_type": "markdown",
      "source": [
        "Comments in HTML are used to:\n",
        "\n",
        "1. Explain the code – Help developers understand the purpose or function of certain parts of the code.\n",
        "\n",
        "\n",
        "2. Make code more readable – Especially useful in complex projects.\n",
        "\n",
        "\n",
        "3. Temporarily disable code – Without deleting it, for testing or debugging.\n",
        "\n",
        "\n",
        "4. Leave notes – For yourself or other developers working on the same project."
      ],
      "metadata": {
        "id": "ScXLPNplDEAM"
      }
    },
    {
      "cell_type": "code",
      "source": [
        "'''\n",
        "<!DOCTYPE html>\n",
        "<html>\n",
        "<head>\n",
        "    <title>My Web Page</title>\n",
        "    <!-- This is the head section where metadata and title go -->\n",
        "</head>\n",
        "<body>\n",
        "    <!-- Main content starts here -->\n",
        "    <h1>Welcome to My Website</h1>\n",
        "\n",
        "    <!-- This paragraph describes the website -->\n",
        "    <p>This is a simple HTML page.</p>\n",
        "\n",
        "    <!--<p>This paragraph is commented out and won't appear on the page.</p>-->\n",
        "</body>\n",
        "</html>\n",
        "'''"
      ],
      "metadata": {
        "id": "p_sYS2TmQmIT"
      },
      "execution_count": null,
      "outputs": []
    },
    {
      "cell_type": "markdown",
      "source": [
        "3. Write an HTML program that includes a heading, a paragraph of text, a horizontal line, and a line break.\n",
        "Arrange these elements to create a simple web page layout$"
      ],
      "metadata": {
        "id": "nydwUhIXDpkV"
      }
    },
    {
      "cell_type": "code",
      "source": [
        " '''\n",
        " <!DOCTYPE html>\n",
        "<html>\n",
        "<head>\n",
        "    <title>Simple Web Page</title>\n",
        "</head>\n",
        "<body>\n",
        "\n",
        "    <h1>Welcome to My Web Page</h1>\n",
        "\n",
        "    <hr> <!-- Horizontal line -->\n",
        "\n",
        "    <p>This is a paragraph of text that gives a brief introduction to the page.<br>\n",
        "    It continues after a line break to show how content can be spaced out.</p>\n",
        "\n",
        "    <hr> <!-- Another horizontal line for separation -->\n",
        "\n",
        "</body>\n",
        "</html>\n",
        "'''"
      ],
      "metadata": {
        "id": "7vuGxKgDFhNL"
      },
      "execution_count": null,
      "outputs": []
    },
    {
      "cell_type": "markdown",
      "source": [
        "4. Write a short note on Tag and element with an example."
      ],
      "metadata": {
        "id": "3PLeOweBFmU7"
      }
    },
    {
      "cell_type": "code",
      "source": [
        "'''\n",
        "Tag:\n",
        "A tag is a keyword in HTML enclosed within angle brackets < >. Tags are used to define HTML elements. Most tags come in pairs: an opening tag and a closing tag.\n",
        "Some tags like <br> or <img> are self-closing and don’t need a closing tag\n",
        "\n",
        "Opening tag: <tagname>\n",
        "\n",
        "Closing tag: </tagname>\n",
        "\n",
        "\n",
        "Example:\n",
        "\n",
        "<p>\n",
        "\n",
        "This is the opening tag for a paragraph.\n",
        "\n",
        "</p>\n",
        "\n",
        "This is the closing tag for a paragraph.\n",
        "'''\n"
      ],
      "metadata": {
        "id": "gv0nXG6eHZNU"
      },
      "execution_count": null,
      "outputs": []
    },
    {
      "cell_type": "code",
      "source": [
        "'''\n",
        "Element:\n",
        "\n",
        "An element consists of the opening tag, the content, and the closing tag.\n",
        "\n",
        "Example:\n",
        "\n",
        "<p>This is a paragraph.</p>\n",
        "\n",
        "Here, <p> is the opening tag, This is a paragraph. is the content, and </p> is the closing tag. Together, they form a paragraph element.\n",
        "'''"
      ],
      "metadata": {
        "id": "FFxPAz7lHzTd"
      },
      "execution_count": null,
      "outputs": []
    },
    {
      "cell_type": "markdown",
      "source": [
        "5. What is the DOCTYPE Declaration in HTML?"
      ],
      "metadata": {
        "id": "eS-UEl90H5t0"
      }
    },
    {
      "cell_type": "markdown",
      "source": [
        "The DOCTYPE declaration is an instruction that tells the web browser what version of HTML the page is written in. It helps the browser render the page correctly. It must be the very first line in an HTML document, before the html tag."
      ],
      "metadata": {
        "id": "kB8_OQ4gISrq"
      }
    }
  ]
}